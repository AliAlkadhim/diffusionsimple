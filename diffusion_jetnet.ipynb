{
 "cells": [
  {
   "cell_type": "code",
   "execution_count": 114,
   "id": "f0f7908c-6d63-4cd3-b157-f22f99cd2f72",
   "metadata": {},
   "outputs": [
    {
     "name": "stdout",
     "output_type": "stream",
     "text": [
      "Particle features: ['etarel', 'phirel', 'ptrel', 'mask']\n",
      "Jet features: ['type', 'pt', 'eta', 'mass', 'num_particles']\n"
     ]
    }
   ],
   "source": [
    "from __future__ import annotations\n",
    "import torch\n",
    "import numpy as np\n",
    "import matplotlib.pyplot as plt\n",
    "import matplotlib as mp\n",
    "plt.rcParams.update({\n",
    "    \"text.usetex\": True,\n",
    "    \"font.family\": \"serif\",\n",
    "    \"font.size\": 25\n",
    "})\n",
    "\n",
    "import torch.optim as optim\n",
    "import torch.nn as nn\n",
    "import os\n",
    "from time import time\n",
    "from sklearn.datasets import make_moons\n",
    "\n",
    "# jetnet on base (python 3.7.10)\n",
    "\n",
    "\n",
    "from jetnet.datasets import JetNet\n",
    "\n",
    "print(f\"Particle features: {JetNet.ALL_PARTICLE_FEATURES}\")\n",
    "print(f\"Jet features: {JetNet.ALL_JET_FEATURES}\")\n",
    "\n",
    "import importlib\n",
    "import simple_diffusion_t_embedding\n",
    "importlib.reload(simple_diffusion_t_embedding)\n",
    "from simple_diffusion_t_embedding import *\n"
   ]
  },
  {
   "cell_type": "code",
   "execution_count": 61,
   "id": "cd98aba4-8b72-45d8-bfd4-266150dc44ae",
   "metadata": {},
   "outputs": [],
   "source": [
    "data_args = {\n",
    "    \"jet_type\": \"g\",  # gluon, top quark, and W boson jets\n",
    "    \"data_dir\": \"datasets/jetnet\",\n",
    "    # only selecting the kinematic features\n",
    "    \"particle_features\": [\"etarel\", \"phirel\", \"ptrel\"],\n",
    "    \"num_particles\": 30,\n",
    "    # \"jet_features\": [\"type\", \"pt\", \"eta\", \"mass\"],\n",
    "    \"jet_features\": [\"pt\", \"eta\", \"mass\"],\n",
    "    \"download\": True,\n",
    "}\n",
    "\n",
    "particle_data, jet_data = JetNet.getData(**data_args)"
   ]
  },
  {
   "cell_type": "code",
   "execution_count": 40,
   "id": "f90b7fae-27d4-4863-be95-76c23f46b295",
   "metadata": {},
   "outputs": [
    {
     "name": "stdout",
     "output_type": "stream",
     "text": [
      "jet_data.shape: (177252, 3)\n",
      "particle_data.shape: (177252, 30, 3)\n"
     ]
    }
   ],
   "source": [
    "print(f'jet_data.shape: {jet_data.shape}')\n",
    "print(f'particle_data.shape: {particle_data.shape}')"
   ]
  },
  {
   "cell_type": "code",
   "execution_count": 41,
   "id": "310951c7-cb88-4b06-b2e6-212e2d111695",
   "metadata": {},
   "outputs": [
    {
     "name": "stdout",
     "output_type": "stream",
     "text": [
      "\n",
      "Jet features of first jet\n",
      "['pt', 'eta', 'mass']\n",
      "[ 1.32753149e+03 -1.22300756e+00  6.83471985e+01]\n"
     ]
    }
   ],
   "source": [
    "print(f\"\\nJet features of first jet\\n{data_args['jet_features']}\\n{jet_data[0]}\")"
   ]
  },
  {
   "cell_type": "code",
   "execution_count": 42,
   "id": "132c39c8-9032-4c11-ad61-50a5aff261d8",
   "metadata": {},
   "outputs": [
    {
     "data": {
      "text/plain": [
       "array([[[ 2.28084670e-03,  1.41175208e-03,  1.31414890e-01],\n",
       "        [ 5.07566088e-04,  7.04002939e-03,  1.21322654e-01],\n",
       "        [ 1.32932863e-03,  9.65450832e-04,  8.96186754e-02],\n",
       "        ...,\n",
       "        [ 7.33533278e-02, -2.92142957e-01,  4.09625284e-03],\n",
       "        [ 5.95269054e-02,  8.60507935e-02,  3.81787168e-03],\n",
       "        [ 2.05075461e-02,  1.70451328e-02,  3.74986720e-03]],\n",
       "\n",
       "       [[-2.01627575e-02,  1.27474815e-02,  2.37833932e-01],\n",
       "        [-2.47009005e-02, -3.29086334e-02,  6.92795441e-02],\n",
       "        [-2.26627830e-02,  2.41135465e-04,  6.52075261e-02],\n",
       "        ...,\n",
       "        [ 1.32337213e-01,  3.52588706e-02,  9.42472368e-03],\n",
       "        [ 4.24267314e-02, -2.34916992e-02,  9.11690015e-03],\n",
       "        [-3.96369211e-02,  3.96285430e-02,  8.45582131e-03]],\n",
       "\n",
       "       [[-8.04048777e-03, -1.32631930e-02,  1.41778558e-01],\n",
       "        [-9.24993400e-03, -9.82325617e-03,  1.31018609e-01],\n",
       "        [-8.73806700e-03, -1.07506095e-02,  1.02754720e-01],\n",
       "        ...,\n",
       "        [-1.04562230e-02, -1.36564933e-02,  4.47861431e-03],\n",
       "        [-2.80405134e-02,  1.17495498e-02,  4.33260435e-03],\n",
       "        [ 3.77493054e-02,  6.49992377e-02,  4.06715320e-03]],\n",
       "\n",
       "       ...,\n",
       "\n",
       "       [[ 4.26058238e-03, -4.70269658e-03,  2.34973371e-01],\n",
       "        [ 8.73450749e-03, -1.14723411e-03,  1.86323971e-01],\n",
       "        [ 9.62605514e-03, -2.21478217e-03,  1.72618583e-01],\n",
       "        ...,\n",
       "        [-2.85739362e-01, -1.54778615e-01,  3.53883370e-03],\n",
       "        [ 6.76058419e-03,  1.37869716e-01,  3.45943077e-03],\n",
       "        [-3.23937228e-03, -2.20146286e-03,  3.36720748e-03]],\n",
       "\n",
       "       [[ 3.70133854e-02,  2.04067938e-02,  1.41282618e-01],\n",
       "        [ 3.70134152e-02,  1.04017854e-02,  8.98746252e-02],\n",
       "        [ 3.50140259e-02,  1.25868339e-02,  7.77836889e-02],\n",
       "        ...,\n",
       "        [ 1.45133687e-02, -7.71426558e-02,  7.89822731e-03],\n",
       "        [ 2.95134131e-02, -8.21451247e-02,  7.87407346e-03],\n",
       "        [ 1.70134008e-02,  7.04322383e-02,  7.52428407e-03]],\n",
       "\n",
       "       [[-3.16836648e-02, -1.39931953e-02,  2.34524086e-01],\n",
       "        [-2.16837041e-02, -1.39932008e-02,  1.09244086e-01],\n",
       "        [-2.37583667e-02, -1.51089253e-02,  1.02156445e-01],\n",
       "        ...,\n",
       "        [-1.74597185e-02, -4.04951088e-02,  5.70071675e-03],\n",
       "        [-1.64576955e-02, -1.48568675e-02,  5.63692860e-03],\n",
       "        [ 1.98048949e-02, -1.83502026e-02,  5.54375350e-03]]],\n",
       "      dtype=float32)"
      ]
     },
     "execution_count": 42,
     "metadata": {},
     "output_type": "execute_result"
    }
   ],
   "source": [
    "particle_data"
   ]
  },
  {
   "cell_type": "code",
   "execution_count": 43,
   "id": "f69de042-1baa-464c-a4b2-870f4c6d7791",
   "metadata": {},
   "outputs": [
    {
     "name": "stdout",
     "output_type": "stream",
     "text": [
      "Particle features of the 10 highest pT particles in the 0th jet\n",
      "['etarel', 'phirel', 'ptrel']\n",
      "[[ 0.00228085  0.00141175  0.13141489]\n",
      " [ 0.00050757  0.00704003  0.12132265]\n",
      " [ 0.00132933  0.00096545  0.08961868]\n",
      " [ 0.00298269  0.00322208  0.08173273]\n",
      " [ 0.00150318  0.00367195  0.07478397]\n",
      " [-0.00449243  0.00203751  0.06690332]\n",
      " [ 0.00050759 -0.0029651   0.05080908]\n",
      " [ 0.00240625  0.01022051  0.03915299]\n",
      " [ 0.00120075  0.01318428  0.03765943]\n",
      " [ 0.02260886  0.02261478  0.03223833]]\n"
     ]
    }
   ],
   "source": [
    "jet_ind = 0\n",
    "const_subset = 10\n",
    "\n",
    "print(\n",
    "    f\"Particle features of the {const_subset} highest pT particles in the {jet_ind}th jet\\n{data_args['particle_features']}\\n\\\n",
    "{particle_data[jet_ind, :const_subset]}\"\n",
    ")"
   ]
  },
  {
   "cell_type": "code",
   "execution_count": 45,
   "id": "27535057-52ca-47ea-89b4-be61ed6633ba",
   "metadata": {},
   "outputs": [
    {
     "data": {
      "image/png": "[encoded data removed]",
      "text/plain": [
       "<Figure size 864x864 with 1 Axes>"
      ]
     },
     "metadata": {
      "needs_background": "light"
     },
     "output_type": "display_data"
    }
   ],
   "source": [
    "import numpy as np\n",
    "from jetnet.utils import jet_features\n",
    "\n",
    "num_types = len(data_args[\"jet_type\"])\n",
    "# get the index of each jet type using the JetNet.JET_TYPES array\n",
    "type_indices = {jet_type: JetNet.JET_TYPES.index(jet_type) \n",
    "                for jet_type in data_args[\"jet_type\"]}\n",
    "\n",
    "fig = plt.figure(figsize=(12, 12))\n",
    "plt.ticklabel_format(axis=\"y\", scilimits=(0, 0), useMathText=True)\n",
    "\n",
    "# for j in range(num_types):\n",
    "#     jet_type = data_args[\"jet_type\"][j]\n",
    "#     type_selector = jet_data[:, 0] == type_indices[jet_type]  # select jets based on jet_type feat\n",
    "\n",
    "#     jet_masses = jet_features(particle_data[type_selector][:50000])[\"mass\"]\n",
    "#     _ = plt.hist(jet_masses, bins=np.linspace(0, 0.2, 100), histtype=\"step\", label=jet_type)\n",
    "\n",
    "\n",
    "jet_masses = jet_features(particle_data[type_selector][:50000])[\"mass\"]\n",
    "_ = plt.hist(jet_masses, bins=np.linspace(0, 0.2, 100), histtype=\"step\", label=jet_type)\n",
    "\n",
    "\n",
    "plt.xlabel(r\"Jet $m/p_{T}$\")\n",
    "plt.ylabel(\"number of Jets\")\n",
    "plt.legend(loc=1, prop={\"size\": 18})\n",
    "plt.title(\"Relative Jet Masses\")\n",
    "plt.show()"
   ]
  },
  {
   "cell_type": "code",
   "execution_count": 22,
   "id": "c89fdb38-a3b0-4096-b988-06a8215ff590",
   "metadata": {},
   "outputs": [
    {
     "data": {
      "text/plain": [
       "{'g': 0}"
      ]
     },
     "execution_count": 22,
     "metadata": {},
     "output_type": "execute_result"
    }
   ],
   "source": [
    "type_indices"
   ]
  },
  {
   "cell_type": "code",
   "execution_count": 101,
   "id": "f9faf804-633c-4c07-a2ee-fc4660bf2591",
   "metadata": {},
   "outputs": [
    {
     "data": {
      "image/png": "[encoded data removed]",
      "text/plain": [
       "<Figure size 720x720 with 3 Axes>"
      ]
     },
     "metadata": {
      "needs_background": "light"
     },
     "output_type": "display_data"
    }
   ],
   "source": [
    "SUBSET = int(1e5)\n",
    "jet_data_red = jet_data[:SUBSET]\n",
    "# jet_type = data_args[\"jet_type\"][\"mass\"]\n",
    "fig, ax = plt.subplots(1,3, figsize=(10,10))\n",
    "for i in range(3):\n",
    "    ax[i].hist(jet_data_red[:,i],bins=100);"
   ]
  },
  {
   "cell_type": "markdown",
   "id": "0a262d70-2455-452c-98e4-3ccb12318977",
   "metadata": {},
   "source": [
    "## test diffusion model on jet data"
   ]
  },
  {
   "cell_type": "code",
   "execution_count": null,
   "id": "f0fba137-d868-49df-9cb0-ce269e4dbeab",
   "metadata": {},
   "outputs": [],
   "source": []
  },
  {
   "cell_type": "code",
   "execution_count": 102,
   "id": "cedfa28b-e6f0-4893-be58-08204c748de2",
   "metadata": {},
   "outputs": [
    {
     "name": "stdout",
     "output_type": "stream",
     "text": [
      "x0.shape=torch.Size([100000, 3])\n"
     ]
    }
   ],
   "source": [
    "device = torch.device('cuda' if torch.cuda.is_available() else 'cpu')\n",
    "\n",
    "X = jet_data_red\n",
    "x0 = torch.tensor(X, dtype=torch.float32).to(device)\n",
    "print(f'x0.shape={x0.shape}')\n",
    "\n",
    "\n",
    "# Total time steps T\n",
    "T = 1000\n",
    "# Noise scheduler beta_t, which goes from beta_1 to beta_T\n",
    "beta_1 = 1e-4\n",
    "beta_T = 0.02\n",
    "beta = torch.linspace(beta_1, beta_T, T).to(device)\n",
    "alpha_ = 1 - beta\n",
    "alpha_bar = torch.cumprod(alpha_, dim=0)\n"
   ]
  },
  {
   "cell_type": "code",
   "execution_count": 106,
   "id": "9dbbaa84-2632-41c5-aab0-7e5d97b3bd9d",
   "metadata": {},
   "outputs": [
    {
     "name": "stdout",
     "output_type": "stream",
     "text": [
      "t=0\n",
      "t=200\n",
      "t=400\n",
      "t=600\n",
      "t=800\n"
     ]
    },
    {
     "data": {
      "image/png": "[encoded data removed]",
      "text/plain": [
       "<Figure size 1440x720 with 5 Axes>"
      ]
     },
     "metadata": {
      "needs_background": "light"
     },
     "output_type": "display_data"
    },
    {
     "name": "stdout",
     "output_type": "stream",
     "text": [
      "this arbirary function took 0.5622 secs\n"
     ]
    }
   ],
   "source": [
    "\n",
    "\n",
    "# Plot the forward diffusion process\n",
    "plot_forward_xt_jet(T_ex=T, x0=x0.cpu(), alpha_bar=alpha_bar.cpu(), N_plots=5)\n"
   ]
  },
  {
   "cell_type": "code",
   "execution_count": 115,
   "id": "ecb30a9e-ef34-43c0-9116-f4db1920e0af",
   "metadata": {},
   "outputs": [
    {
     "name": "stdout",
     "output_type": "stream",
     "text": [
      "Epsilon(\n",
      "  (time_mlp): Sequential(\n",
      "    (0): Linear(in_features=128, out_features=128, bias=True)\n",
      "    (1): ReLU()\n",
      "  )\n",
      "  (input_layer): Sequential(\n",
      "    (0): Linear(in_features=3, out_features=128, bias=True)\n",
      "    (1): ReLU()\n",
      "  )\n",
      "  (hidden_layers): Sequential(\n",
      "    (0): Linear(in_features=128, out_features=128, bias=True)\n",
      "    (1): ReLU()\n",
      "    (2): Linear(in_features=128, out_features=128, bias=True)\n",
      "    (3): ReLU()\n",
      "    (4): Linear(in_features=128, out_features=128, bias=True)\n",
      "    (5): ReLU()\n",
      "  )\n",
      "  (output_layer): Linear(in_features=128, out_features=3, bias=True)\n",
      ")\n",
      "Epoch 0/50, Loss: 0.298869\n",
      "Epoch 10/50, Loss: 0.265241\n",
      "Epoch 20/50, Loss: 0.262883\n",
      "Epoch 30/50, Loss: 0.267869\n",
      "Epoch 40/50, Loss: 0.263376\n",
      "this arbirary function took 119.3918 secs\n"
     ]
    }
   ],
   "source": [
    "# Train the model\n",
    "epochs = 50\n",
    "epsilon_theta, x0_mean, x0_std = train(epochs=epochs, \n",
    "                      x0=x0, \n",
    "                      alpha_bar=alpha_bar, \n",
    "                      T=T, \n",
    "                      device=device)"
   ]
  },
  {
   "cell_type": "code",
   "execution_count": 116,
   "id": "830eabe3-0773-450d-9ef5-74652f44e15b",
   "metadata": {},
   "outputs": [
    {
     "name": "stdout",
     "output_type": "stream",
     "text": [
      "Time to sample one feature of shape=(100000, 3): 227.88 seconds\n"
     ]
    }
   ],
   "source": [
    "T_sample_1 = 1000\n",
    "# calculate time to sample one feature\n",
    "start_time = time.time()\n",
    "x_sample_1 = sample_one(\n",
    "    model=epsilon_theta,\n",
    "    x0_shape=x0.shape,\n",
    "    alpha=alpha_,\n",
    "    beta=beta,\n",
    "    alpha_bar=alpha_bar,\n",
    "    T=T_sample_1,\n",
    "    device=device,\n",
    ")\n",
    "x_sample_1 = x_sample_1.numpy()\n",
    "end_time = time.time()\n",
    "print(f'Time to sample one feature of shape={x_sample_1.shape}: {end_time - start_time:.2f} seconds')"
   ]
  },
  {
   "cell_type": "code",
   "execution_count": 121,
   "id": "92535c2a-df59-46d5-b0f7-20e9966b81cc",
   "metadata": {},
   "outputs": [
    {
     "data": {
      "image/png": "[encoded data removed]",
      "text/plain": [
       "<Figure size 720x720 with 3 Axes>"
      ]
     },
     "metadata": {
      "needs_background": "light"
     },
     "output_type": "display_data"
    }
   ],
   "source": [
    "fig, ax = plt.subplots(1,3, figsize=(10,10))\n",
    "\n",
    "x_sample_1_denormalized = x0_mean.numpy() + x_sample_1 * x0_std.numpy()\n",
    "for i in range(3):\n",
    "    ax[i].hist(x_sample_1_denormalized[:,i],bins=100, alpha = 0.4, label = 'generated samples')\n",
    "    ax[i].hist(X[:,i],                     bins=100, alpha = 0.4, label = 'original samples')\n",
    "    ax[i].legend(fontsize=15)"
   ]
  },
  {
   "cell_type": "code",
   "execution_count": null,
   "id": "f5e9a22b-fac4-467c-8cba-f1bf9595be51",
   "metadata": {},
   "outputs": [],
   "source": []
  }
 ],
 "metadata": {
  "kernelspec": {
   "display_name": "Python 3",
   "language": "python",
   "name": "python3"
  },
  "language_info": {
   "codemirror_mode": {
    "name": "ipython",
    "version": 3
   },
   "file_extension": ".py",
   "mimetype": "text/x-python",
   "name": "python",
   "nbconvert_exporter": "python",
   "pygments_lexer": "ipython3",
   "version": "3.7.10"
  }
 },
 "nbformat": 4,
 "nbformat_minor": 5
}
